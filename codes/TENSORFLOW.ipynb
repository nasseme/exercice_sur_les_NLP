{
 "cells": [
  {
   "cell_type": "markdown",
   "id": "02effeaa",
   "metadata": {},
   "source": [
    " # A-2 Classification en Utilisant TensorFlow et BERT\n"
   ]
  },
  {
   "cell_type": "code",
   "execution_count": 1,
   "id": "1d14a289",
   "metadata": {},
   "outputs": [
    {
     "name": "stdout",
     "output_type": "stream",
     "text": [
      "Version de TensorFlow : 2.10.1\n",
      "Version de TensorFlow Hub : 0.14.0\n"
     ]
    }
   ],
   "source": [
    "\n",
    "import tensorflow as tf\n",
    "import tensorflow_hub as hub\n",
    "import tensorflow_text as text\n",
    "import numpy as np\n",
    "import pandas as pd\n",
    "import matplotlib.pyplot as plt\n",
    "\n",
    "\n",
    "print(\"Version de TensorFlow :\", tf.__version__)\n",
    "print(\"Version de TensorFlow Hub :\", hub.__version__)\n"
   ]
  },
  {
   "cell_type": "code",
   "execution_count": 2,
   "id": "3016dc4e",
   "metadata": {},
   "outputs": [],
   "source": [
    "df=pd.read_csv(\"train.csv\")"
   ]
  },
  {
   "cell_type": "code",
   "execution_count": 3,
   "id": "c639cad4",
   "metadata": {},
   "outputs": [
    {
     "data": {
      "text/html": [
       "<div>\n",
       "<style scoped>\n",
       "    .dataframe tbody tr th:only-of-type {\n",
       "        vertical-align: middle;\n",
       "    }\n",
       "\n",
       "    .dataframe tbody tr th {\n",
       "        vertical-align: top;\n",
       "    }\n",
       "\n",
       "    .dataframe thead th {\n",
       "        text-align: right;\n",
       "    }\n",
       "</style>\n",
       "<table border=\"1\" class=\"dataframe\">\n",
       "  <thead>\n",
       "    <tr style=\"text-align: right;\">\n",
       "      <th></th>\n",
       "      <th>id</th>\n",
       "      <th>keyword</th>\n",
       "      <th>location</th>\n",
       "      <th>text</th>\n",
       "      <th>target</th>\n",
       "    </tr>\n",
       "  </thead>\n",
       "  <tbody>\n",
       "    <tr>\n",
       "      <th>0</th>\n",
       "      <td>1</td>\n",
       "      <td>NaN</td>\n",
       "      <td>NaN</td>\n",
       "      <td>Our Deeds are the Reason of this #earthquake M...</td>\n",
       "      <td>1</td>\n",
       "    </tr>\n",
       "    <tr>\n",
       "      <th>1</th>\n",
       "      <td>4</td>\n",
       "      <td>NaN</td>\n",
       "      <td>NaN</td>\n",
       "      <td>Forest fire near La Ronge Sask. Canada</td>\n",
       "      <td>1</td>\n",
       "    </tr>\n",
       "    <tr>\n",
       "      <th>2</th>\n",
       "      <td>5</td>\n",
       "      <td>NaN</td>\n",
       "      <td>NaN</td>\n",
       "      <td>All residents asked to 'shelter in place' are ...</td>\n",
       "      <td>1</td>\n",
       "    </tr>\n",
       "    <tr>\n",
       "      <th>3</th>\n",
       "      <td>6</td>\n",
       "      <td>NaN</td>\n",
       "      <td>NaN</td>\n",
       "      <td>13,000 people receive #wildfires evacuation or...</td>\n",
       "      <td>1</td>\n",
       "    </tr>\n",
       "    <tr>\n",
       "      <th>4</th>\n",
       "      <td>7</td>\n",
       "      <td>NaN</td>\n",
       "      <td>NaN</td>\n",
       "      <td>Just got sent this photo from Ruby #Alaska as ...</td>\n",
       "      <td>1</td>\n",
       "    </tr>\n",
       "    <tr>\n",
       "      <th>...</th>\n",
       "      <td>...</td>\n",
       "      <td>...</td>\n",
       "      <td>...</td>\n",
       "      <td>...</td>\n",
       "      <td>...</td>\n",
       "    </tr>\n",
       "    <tr>\n",
       "      <th>7608</th>\n",
       "      <td>10869</td>\n",
       "      <td>NaN</td>\n",
       "      <td>NaN</td>\n",
       "      <td>Two giant cranes holding a bridge collapse int...</td>\n",
       "      <td>1</td>\n",
       "    </tr>\n",
       "    <tr>\n",
       "      <th>7609</th>\n",
       "      <td>10870</td>\n",
       "      <td>NaN</td>\n",
       "      <td>NaN</td>\n",
       "      <td>@aria_ahrary @TheTawniest The out of control w...</td>\n",
       "      <td>1</td>\n",
       "    </tr>\n",
       "    <tr>\n",
       "      <th>7610</th>\n",
       "      <td>10871</td>\n",
       "      <td>NaN</td>\n",
       "      <td>NaN</td>\n",
       "      <td>M1.94 [01:04 UTC]?5km S of Volcano Hawaii. htt...</td>\n",
       "      <td>1</td>\n",
       "    </tr>\n",
       "    <tr>\n",
       "      <th>7611</th>\n",
       "      <td>10872</td>\n",
       "      <td>NaN</td>\n",
       "      <td>NaN</td>\n",
       "      <td>Police investigating after an e-bike collided ...</td>\n",
       "      <td>1</td>\n",
       "    </tr>\n",
       "    <tr>\n",
       "      <th>7612</th>\n",
       "      <td>10873</td>\n",
       "      <td>NaN</td>\n",
       "      <td>NaN</td>\n",
       "      <td>The Latest: More Homes Razed by Northern Calif...</td>\n",
       "      <td>1</td>\n",
       "    </tr>\n",
       "  </tbody>\n",
       "</table>\n",
       "<p>7613 rows × 5 columns</p>\n",
       "</div>"
      ],
      "text/plain": [
       "         id keyword location  \\\n",
       "0         1     NaN      NaN   \n",
       "1         4     NaN      NaN   \n",
       "2         5     NaN      NaN   \n",
       "3         6     NaN      NaN   \n",
       "4         7     NaN      NaN   \n",
       "...     ...     ...      ...   \n",
       "7608  10869     NaN      NaN   \n",
       "7609  10870     NaN      NaN   \n",
       "7610  10871     NaN      NaN   \n",
       "7611  10872     NaN      NaN   \n",
       "7612  10873     NaN      NaN   \n",
       "\n",
       "                                                   text  target  \n",
       "0     Our Deeds are the Reason of this #earthquake M...       1  \n",
       "1                Forest fire near La Ronge Sask. Canada       1  \n",
       "2     All residents asked to 'shelter in place' are ...       1  \n",
       "3     13,000 people receive #wildfires evacuation or...       1  \n",
       "4     Just got sent this photo from Ruby #Alaska as ...       1  \n",
       "...                                                 ...     ...  \n",
       "7608  Two giant cranes holding a bridge collapse int...       1  \n",
       "7609  @aria_ahrary @TheTawniest The out of control w...       1  \n",
       "7610  M1.94 [01:04 UTC]?5km S of Volcano Hawaii. htt...       1  \n",
       "7611  Police investigating after an e-bike collided ...       1  \n",
       "7612  The Latest: More Homes Razed by Northern Calif...       1  \n",
       "\n",
       "[7613 rows x 5 columns]"
      ]
     },
     "execution_count": 3,
     "metadata": {},
     "output_type": "execute_result"
    }
   ],
   "source": [
    "df"
   ]
  },
  {
   "cell_type": "code",
   "execution_count": 4,
   "id": "93849f75",
   "metadata": {},
   "outputs": [],
   "source": [
    "bert_preprocess = hub.KerasLayer(\"https://tfhub.dev/tensorflow/bert_en_uncased_preprocess/3\")\n",
    "bert_encoder = hub.KerasLayer(\"https://tfhub.dev/tensorflow/bert_en_uncased_L-12_H-768_A-12/4\")\n"
   ]
  },
  {
   "cell_type": "markdown",
   "id": "bcda50a8",
   "metadata": {},
   "source": [
    "Ce code utilise TensorFlow Hub pour charger deux couches pré-entraînées de BERT  pour le prétraitement et l'encodage de texte en anglais. "
   ]
  },
  {
   "cell_type": "code",
   "execution_count": 5,
   "id": "0e60c5bf",
   "metadata": {},
   "outputs": [],
   "source": [
    "from sklearn.model_selection import train_test_split\n",
    "from sklearn.metrics.pairwise import cosine_similarity"
   ]
  },
  {
   "cell_type": "code",
   "execution_count": 6,
   "id": "06a6e0ac",
   "metadata": {},
   "outputs": [],
   "source": [
    "const=200\n",
    "X_train,X_test,Y_train,Y_test=train_test_split(\n",
    "    df[\"text\"],\n",
    "    df[\"target\"],\n",
    "    test_size=0.15,\n",
    "    random_state=const)"
   ]
  },
  {
   "cell_type": "code",
   "execution_count": 7,
   "id": "584147d6",
   "metadata": {},
   "outputs": [
    {
     "data": {
      "text/plain": [
       "125     Sometimes you face difficulties not because yo...\n",
       "4336    Patience Jonathan On The Move To Hijack APC In...\n",
       "6323    @DareToTaha nah but thinking of getting a stre...\n",
       "3960    Cuban leader extends sympathy to Vietnam over ...\n",
       "7238      #Battlefield 1942 forgotten hope secret weapons\n",
       "1093    Jays rocking #MLB @JoeyBats19 just bombed one ...\n",
       "6542    @rjkrraj @KarnakaranK @vimvith whether pressur...\n",
       "Name: text, dtype: object"
      ]
     },
     "execution_count": 7,
     "metadata": {},
     "output_type": "execute_result"
    }
   ],
   "source": [
    "X_train.head(7)"
   ]
  },
  {
   "cell_type": "code",
   "execution_count": 8,
   "id": "090ccbde",
   "metadata": {},
   "outputs": [],
   "source": [
    "def embeding(sentences):\n",
    "    preproc=bert_preprocess(sentences)\n",
    "    return bert_encoder(preproc)[\"pooled_output\"]  "
   ]
  },
  {
   "cell_type": "markdown",
   "id": "2e2f4785",
   "metadata": {},
   "source": [
    "cette fonction permet de preprocesser et d'encoder un mot. on va utiliser cette fonction que pour analyser brievement les couche pré-entrainéss "
   ]
  },
  {
   "cell_type": "code",
   "execution_count": 9,
   "id": "6ea822aa",
   "metadata": {},
   "outputs": [],
   "source": [
    "resultat=embeding([\"adam\",\"ali\",\"rainning\"])"
   ]
  },
  {
   "cell_type": "code",
   "execution_count": 10,
   "id": "ffe37114",
   "metadata": {},
   "outputs": [
    {
     "data": {
      "text/plain": [
       "array([[0.9974217]], dtype=float32)"
      ]
     },
     "execution_count": 10,
     "metadata": {},
     "output_type": "execute_result"
    }
   ],
   "source": [
    "cosine_similarity([resultat[0]], [resultat[1]])"
   ]
  },
  {
   "cell_type": "code",
   "execution_count": 11,
   "id": "15ef5405",
   "metadata": {},
   "outputs": [
    {
     "data": {
      "text/plain": [
       "array([[0.86548126]], dtype=float32)"
      ]
     },
     "execution_count": 11,
     "metadata": {},
     "output_type": "execute_result"
    }
   ],
   "source": [
    "cosine_similarity([resultat[0]], [resultat[2]])"
   ]
  },
  {
   "cell_type": "code",
   "execution_count": 12,
   "id": "5c9ea7c1",
   "metadata": {},
   "outputs": [
    {
     "data": {
      "text/plain": [
       "array([[0.8581742]], dtype=float32)"
      ]
     },
     "execution_count": 12,
     "metadata": {},
     "output_type": "execute_result"
    }
   ],
   "source": [
    "cosine_similarity([resultat[1]], [resultat[2]])"
   ]
  },
  {
   "cell_type": "markdown",
   "id": "ff04619d",
   "metadata": {},
   "source": [
    "On voit que le cosinus de similarité est plus proche de 1 pour les prenoms contrairement au verbe running"
   ]
  },
  {
   "cell_type": "code",
   "execution_count": 13,
   "id": "791695a1",
   "metadata": {},
   "outputs": [],
   "source": [
    "# Bert layers\n",
    "\n",
    "text_input = tf.keras. layers. Input (shape= (), dtype=tf.string, name=\"text\")\n",
    "\n",
    "preprocessed_text = bert_preprocess (text_input)\n",
    "\n",
    "outputs = bert_encoder (preprocessed_text)\n",
    "# Neural network layers\n",
    "l = tf.keras.layers.Dropout(0.1, name='dropout')(outputs['pooled_output'])\n",
    "l = tf.keras.layers.Dense(1, activation='sigmoid', name='output', input_shape=(768,))(l)\n",
    "\n",
    "# construct final model\n",
    "model = tf.keras.Model(inputs=[text_input], outputs=[l])\n"
   ]
  },
  {
   "cell_type": "code",
   "execution_count": 14,
   "id": "65592ba0",
   "metadata": {},
   "outputs": [
    {
     "name": "stdout",
     "output_type": "stream",
     "text": [
      "Model: \"model\"\n",
      "__________________________________________________________________________________________________\n",
      " Layer (type)                   Output Shape         Param #     Connected to                     \n",
      "==================================================================================================\n",
      " text (InputLayer)              [(None,)]            0           []                               \n",
      "                                                                                                  \n",
      " keras_layer (KerasLayer)       {'input_type_ids':   0           ['text[0][0]']                   \n",
      "                                (None, 128),                                                      \n",
      "                                 'input_mask': (Non                                               \n",
      "                                e, 128),                                                          \n",
      "                                 'input_word_ids':                                                \n",
      "                                (None, 128)}                                                      \n",
      "                                                                                                  \n",
      " keras_layer_1 (KerasLayer)     {'default': (None,   109482241   ['keras_layer[0][0]',            \n",
      "                                768),                             'keras_layer[0][1]',            \n",
      "                                 'sequence_output':               'keras_layer[0][2]']            \n",
      "                                 (None, 128, 768),                                                \n",
      "                                 'pooled_output': (                                               \n",
      "                                None, 768),                                                       \n",
      "                                 'encoder_outputs':                                               \n",
      "                                 [(None, 128, 768),                                               \n",
      "                                 (None, 128, 768),                                                \n",
      "                                 (None, 128, 768),                                                \n",
      "                                 (None, 128, 768),                                                \n",
      "                                 (None, 128, 768),                                                \n",
      "                                 (None, 128, 768),                                                \n",
      "                                 (None, 128, 768),                                                \n",
      "                                 (None, 128, 768),                                                \n",
      "                                 (None, 128, 768),                                                \n",
      "                                 (None, 128, 768),                                                \n",
      "                                 (None, 128, 768),                                                \n",
      "                                 (None, 128, 768)]}                                               \n",
      "                                                                                                  \n",
      " dropout (Dropout)              (None, 768)          0           ['keras_layer_1[0][13]']         \n",
      "                                                                                                  \n",
      " output (Dense)                 (None, 1)            769         ['dropout[0][0]']                \n",
      "                                                                                                  \n",
      "==================================================================================================\n",
      "Total params: 109,483,010\n",
      "Trainable params: 769\n",
      "Non-trainable params: 109,482,241\n",
      "__________________________________________________________________________________________________\n"
     ]
    }
   ],
   "source": [
    "model.summary()"
   ]
  },
  {
   "cell_type": "code",
   "execution_count": 17,
   "id": "71bfd840",
   "metadata": {},
   "outputs": [],
   "source": [
    "METRICS = [\n",
    "    tf.keras.metrics.BinaryAccuracy(name='accuracy'), \n",
    "    tf.keras.metrics.Precision(name='precision'), \n",
    "    tf. keras.metrics. Recall (name= ' recall')\n",
    "]\n",
    "\n",
    "model. compile (optimizer=\"adam\",\n",
    "                loss='binary_crossentropy', \n",
    "                metrics=METRICS)"
   ]
  },
  {
   "cell_type": "code",
   "execution_count": 18,
   "id": "53ab9df7",
   "metadata": {},
   "outputs": [
    {
     "name": "stdout",
     "output_type": "stream",
     "text": [
      "Epoch 1/10\n",
      "203/203 [==============================] - 2396s 12s/step - loss: 0.6360 - accuracy: 0.6413 - precision: 0.6038 -  recall: 0.4948\n",
      "Epoch 2/10\n",
      "203/203 [==============================] - 2940s 14s/step - loss: 0.5990 - accuracy: 0.6852 - precision: 0.6582 -  recall: 0.5652\n",
      "Epoch 3/10\n",
      "203/203 [==============================] - 2938s 14s/step - loss: 0.5794 - accuracy: 0.7109 - precision: 0.6893 -  recall: 0.6028\n",
      "Epoch 4/10\n",
      "203/203 [==============================] - 2639s 13s/step - loss: 0.5651 - accuracy: 0.7246 - precision: 0.7046 -  recall: 0.6250\n",
      "Epoch 5/10\n",
      "203/203 [==============================] - 2219s 11s/step - loss: 0.5604 - accuracy: 0.7214 - precision: 0.7011 -  recall: 0.6196\n",
      "Epoch 6/10\n",
      "203/203 [==============================] - 2439s 12s/step - loss: 0.5500 - accuracy: 0.7334 - precision: 0.7174 -  recall: 0.6325\n",
      "Epoch 7/10\n",
      "203/203 [==============================] - 2314s 11s/step - loss: 0.5434 - accuracy: 0.7376 - precision: 0.7217 -  recall: 0.6396\n",
      "Epoch 8/10\n",
      "203/203 [==============================] - 3009s 15s/step - loss: 0.5400 - accuracy: 0.7425 - precision: 0.7292 -  recall: 0.6432\n",
      "Epoch 9/10\n",
      "203/203 [==============================] - 3101s 15s/step - loss: 0.5342 - accuracy: 0.7481 - precision: 0.7377 -  recall: 0.6475\n",
      "Epoch 10/10\n",
      "203/203 [==============================] - 2577s 13s/step - loss: 0.5300 - accuracy: 0.7510 - precision: 0.7424 -  recall: 0.6493\n"
     ]
    },
    {
     "data": {
      "text/plain": [
       "<keras.callbacks.History at 0x2bb8f590970>"
      ]
     },
     "execution_count": 18,
     "metadata": {},
     "output_type": "execute_result"
    }
   ],
   "source": [
    "model.fit(X_train,Y_train,epochs=10)"
   ]
  },
  {
   "cell_type": "code",
   "execution_count": 19,
   "id": "f0956d40",
   "metadata": {},
   "outputs": [
    {
     "name": "stdout",
     "output_type": "stream",
     "text": [
      "36/36 [==============================] - 398s 11s/step - loss: 0.5103 - accuracy: 0.7662 - precision: 0.8000 -  recall: 0.5823\n"
     ]
    },
    {
     "data": {
      "text/plain": [
       "[0.5103217363357544, 0.7661996483802795, 0.800000011920929, 0.5822784900665283]"
      ]
     },
     "execution_count": 19,
     "metadata": {},
     "output_type": "execute_result"
    }
   ],
   "source": [
    "model.evaluate(X_test,Y_test)"
   ]
  },
  {
   "cell_type": "code",
   "execution_count": 20,
   "id": "8c0cc989",
   "metadata": {},
   "outputs": [],
   "source": [
    "Data_test=pd.read_csv(\"test.csv\")"
   ]
  },
  {
   "cell_type": "code",
   "execution_count": 21,
   "id": "c7b86546",
   "metadata": {},
   "outputs": [],
   "source": [
    "sample=pd.read_csv(\"sample_submission.csv\")"
   ]
  },
  {
   "cell_type": "code",
   "execution_count": 22,
   "id": "7a2e9c77",
   "metadata": {},
   "outputs": [
    {
     "name": "stdout",
     "output_type": "stream",
     "text": [
      "102/102 [==============================] - 1187s 12s/step\n"
     ]
    }
   ],
   "source": [
    "y_predict=model.predict(Data_test[\"text\"])\n",
    "y_predict_f=y_predict.flatten()"
   ]
  },
  {
   "cell_type": "code",
   "execution_count": 23,
   "id": "c73230a3",
   "metadata": {},
   "outputs": [
    {
     "data": {
      "text/plain": [
       "(3263, 1)"
      ]
     },
     "execution_count": 23,
     "metadata": {},
     "output_type": "execute_result"
    }
   ],
   "source": [
    "y_predict.shape"
   ]
  },
  {
   "cell_type": "code",
   "execution_count": 24,
   "id": "72436b36",
   "metadata": {},
   "outputs": [],
   "source": [
    "y_predicted_075 = np. where(y_predict_f > 0.75, 1, 0)\n",
    "y_predicted_050 = np. where(y_predict_f > 0.5, 1, 0)\n"
   ]
  },
  {
   "cell_type": "code",
   "execution_count": 25,
   "id": "609a18da",
   "metadata": {},
   "outputs": [
    {
     "data": {
      "text/html": [
       "<div>\n",
       "<style scoped>\n",
       "    .dataframe tbody tr th:only-of-type {\n",
       "        vertical-align: middle;\n",
       "    }\n",
       "\n",
       "    .dataframe tbody tr th {\n",
       "        vertical-align: top;\n",
       "    }\n",
       "\n",
       "    .dataframe thead th {\n",
       "        text-align: right;\n",
       "    }\n",
       "</style>\n",
       "<table border=\"1\" class=\"dataframe\">\n",
       "  <thead>\n",
       "    <tr style=\"text-align: right;\">\n",
       "      <th></th>\n",
       "      <th>id</th>\n",
       "      <th>target</th>\n",
       "    </tr>\n",
       "  </thead>\n",
       "  <tbody>\n",
       "    <tr>\n",
       "      <th>0</th>\n",
       "      <td>0</td>\n",
       "      <td>0</td>\n",
       "    </tr>\n",
       "    <tr>\n",
       "      <th>1</th>\n",
       "      <td>2</td>\n",
       "      <td>0</td>\n",
       "    </tr>\n",
       "    <tr>\n",
       "      <th>2</th>\n",
       "      <td>3</td>\n",
       "      <td>0</td>\n",
       "    </tr>\n",
       "    <tr>\n",
       "      <th>3</th>\n",
       "      <td>9</td>\n",
       "      <td>0</td>\n",
       "    </tr>\n",
       "    <tr>\n",
       "      <th>4</th>\n",
       "      <td>11</td>\n",
       "      <td>0</td>\n",
       "    </tr>\n",
       "    <tr>\n",
       "      <th>...</th>\n",
       "      <td>...</td>\n",
       "      <td>...</td>\n",
       "    </tr>\n",
       "    <tr>\n",
       "      <th>3258</th>\n",
       "      <td>10861</td>\n",
       "      <td>0</td>\n",
       "    </tr>\n",
       "    <tr>\n",
       "      <th>3259</th>\n",
       "      <td>10865</td>\n",
       "      <td>0</td>\n",
       "    </tr>\n",
       "    <tr>\n",
       "      <th>3260</th>\n",
       "      <td>10868</td>\n",
       "      <td>0</td>\n",
       "    </tr>\n",
       "    <tr>\n",
       "      <th>3261</th>\n",
       "      <td>10874</td>\n",
       "      <td>0</td>\n",
       "    </tr>\n",
       "    <tr>\n",
       "      <th>3262</th>\n",
       "      <td>10875</td>\n",
       "      <td>0</td>\n",
       "    </tr>\n",
       "  </tbody>\n",
       "</table>\n",
       "<p>3263 rows × 2 columns</p>\n",
       "</div>"
      ],
      "text/plain": [
       "         id  target\n",
       "0         0       0\n",
       "1         2       0\n",
       "2         3       0\n",
       "3         9       0\n",
       "4        11       0\n",
       "...     ...     ...\n",
       "3258  10861       0\n",
       "3259  10865       0\n",
       "3260  10868       0\n",
       "3261  10874       0\n",
       "3262  10875       0\n",
       "\n",
       "[3263 rows x 2 columns]"
      ]
     },
     "execution_count": 25,
     "metadata": {},
     "output_type": "execute_result"
    }
   ],
   "source": [
    "sample"
   ]
  },
  {
   "cell_type": "code",
   "execution_count": null,
   "id": "a3c5922a",
   "metadata": {},
   "outputs": [],
   "source": []
  },
  {
   "cell_type": "code",
   "execution_count": 26,
   "id": "f2b9f82d",
   "metadata": {},
   "outputs": [
    {
     "data": {
      "image/png": "[encoded data removed]",
      "text/plain": [
       "<Figure size 1000x800 with 3 Axes>"
      ]
     },
     "metadata": {},
     "output_type": "display_data"
    }
   ],
   "source": [
    "def function0(liste):\n",
    "    point0=0\n",
    "    point1=0\n",
    "    for i in liste:\n",
    "        if i==0:\n",
    "            point0=point0+1\n",
    "        else:\n",
    "            point1=point1+1\n",
    "    return point0, point1\n",
    "\n",
    "\n",
    "total= len(sample)\n",
    "\n",
    "\n",
    "def function11(data,titre):\n",
    "    # Données d'exemple\n",
    "    \n",
    "    categories = ['pourcentage des tweet normaux', 'pourcentage des tweet d accident']\n",
    "    pourcentages = [ 100*function0(data)[0]/total, 100*function0(data)[1]/total ]\n",
    "    couleurs = ['green', 'red']  # Couleurs des secteurs\n",
    "\n",
    "    # Création du graphique en secteurs\n",
    "    fig, ax = plt.subplots()\n",
    "    ax.pie(pourcentages, labels=categories, colors=couleurs, autopct='%1.1f%%', startangle=90)\n",
    "\n",
    "    # Ajout d'un titre\n",
    "    ax.set_title(titre)\n",
    "    \n",
    "    # Affichage du graphique\n",
    "    plt.axis('equal')  # Pour un aspect circulaire\n",
    "    plt.show()\n",
    "\n",
    "\n",
    "def create_pie_chart(data, titre, ax):\n",
    "    categories = ['%tweet normaux', '%tweet d accident']\n",
    "    pourcentages = [100 * function0(data)[0] / total, 100 * function0(data)[1] / total]\n",
    "    couleurs = ['green', 'red']\n",
    "\n",
    "    ax.pie(pourcentages, labels=categories, colors=couleurs, autopct='%1.1f%%', startangle=90)\n",
    "    ax.set_title(titre)\n",
    "    ax.axis('equal')\n",
    "\n",
    "# Création de la figure et des sous-graphiques (2 lignes, 2 colonnes)\n",
    "fig, axs = plt.subplots(1, 3, figsize=(10, 8))\n",
    "\n",
    "# Premier sous-graphique\n",
    "create_pie_chart(sample[\"target\"], \"Les valeurs réelles\", axs[0])\n",
    "\n",
    "create_pie_chart(y_predicted_050, \"predictions avec 50%\", axs[1])\n",
    "\n",
    "create_pie_chart(y_predicted_075, \"predictions avec 75%\", axs[2])\n",
    "\n",
    "\n",
    "# Ajustement de l'espacement entre les sous-graphiques\n",
    "plt.tight_layout()\n",
    "\n",
    "# Affichage de la figure\n",
    "plt.show()\n"
   ]
  },
  {
   "cell_type": "markdown",
   "id": "d9417c1f",
   "metadata": {},
   "source": [
    "il faut remarquer que la prédiction est meilleur pour un seuil de 75%, est moyen pour le seuil de 50%.\n",
    "il semblerait donc évident que le seuil à 75% est meilleur.\n",
    "toute fois il faut faire attention, car nos données sont malheurerusement toutes classée urgentes,ce qui peut biaiser les données"
   ]
  },
  {
   "cell_type": "code",
   "execution_count": 27,
   "id": "1673aa41",
   "metadata": {},
   "outputs": [
    {
     "name": "stdout",
     "output_type": "stream",
     "text": [
      "1/1 [==============================] - 3s 3s/step\n"
     ]
    },
    {
     "data": {
      "text/plain": [
       "array([[0.46493858]], dtype=float32)"
      ]
     },
     "execution_count": 27,
     "metadata": {},
     "output_type": "execute_result"
    }
   ],
   "source": [
    "model.predict([\"emergency, a personne have been killed last night \"])"
   ]
  },
  {
   "cell_type": "code",
   "execution_count": 28,
   "id": "1db8fdfc",
   "metadata": {},
   "outputs": [],
   "source": [
    "submission_pred=y_predicted_075\n",
    "submission_final=pd.DataFrame({\"id\":sample.id,\n",
    "                          \"target\":submission_pred,\n",
    "                        })"
   ]
  },
  {
   "cell_type": "code",
   "execution_count": 29,
   "id": "b0431369",
   "metadata": {},
   "outputs": [],
   "source": [
    "submission_final.to_csv(\"submission_final.csv\", index=False)"
   ]
  }
 ],
 "metadata": {
  "kernelspec": {
   "display_name": "Python (myenv)",
   "language": "python",
   "name": "myenv"
  },
  "language_info": {
   "codemirror_mode": {
    "name": "ipython",
    "version": 3
   },
   "file_extension": ".py",
   "mimetype": "text/x-python",
   "name": "python",
   "nbconvert_exporter": "python",
   "pygments_lexer": "ipython3",
   "version": "3.9.17"
  }
 },
 "nbformat": 4,
 "nbformat_minor": 5
}
